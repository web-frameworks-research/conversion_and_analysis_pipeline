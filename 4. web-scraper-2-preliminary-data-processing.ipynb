{
 "cells": [
  {
   "cell_type": "code",
   "execution_count": 1,
   "id": "aa413c43",
   "metadata": {
    "execution": {
     "iopub.execute_input": "2024-03-11T04:28:41.463478Z",
     "iopub.status.busy": "2024-03-11T04:28:41.462861Z",
     "iopub.status.idle": "2024-03-11T04:31:08.580078Z",
     "shell.execute_reply": "2024-03-11T04:31:08.578860Z"
    },
    "papermill": {
     "duration": 147.124322,
     "end_time": "2024-03-11T04:31:08.582561",
     "exception": false,
     "start_time": "2024-03-11T04:28:41.458239",
     "status": "completed"
    },
    "tags": []
   },
   "outputs": [
    {
     "name": "stdout",
     "output_type": "stream",
     "text": [
      "17305698304 bytes (17 GB, 16 GiB) copied, 146 s, 119 MB/s\r\n",
      "8254+1 records in\r\n",
      "8254+1 records out\r\n",
      "17311916032 bytes (17 GB, 16 GiB) copied, 146.073 s, 119 MB/s\r\n"
     ]
    }
   ],
   "source": [
    "!dd if=/kaggle/input/web-scrapyscraper/web_framework_scraper-main/store.db of=/tmp/store.db bs=2M status=progress"
   ]
  },
  {
   "cell_type": "code",
   "execution_count": 2,
   "id": "d189cb7e",
   "metadata": {
    "execution": {
     "iopub.execute_input": "2024-03-11T04:31:08.610195Z",
     "iopub.status.busy": "2024-03-11T04:31:08.609765Z",
     "iopub.status.idle": "2024-03-11T04:31:08.629701Z",
     "shell.execute_reply": "2024-03-11T04:31:08.628605Z"
    },
    "papermill": {
     "duration": 0.035311,
     "end_time": "2024-03-11T04:31:08.631892",
     "exception": false,
     "start_time": "2024-03-11T04:31:08.596581",
     "status": "completed"
    },
    "tags": []
   },
   "outputs": [
    {
     "name": "stdout",
     "output_type": "stream",
     "text": [
      "('www.filmweb.pl', '{\"cloudCheck\":{\"ipAddresses\":[\"193.200.227.13\"],\"detectedCloudPlatforms\":[]},\"whatrunsData\":{\"date\":null,\"data\":{}}}', 1000, 0)\n",
      "('znanija.com', '{\"cloudCheck\":{\"ipAddresses\":[\"104.16.209.56\",\"104.16.208.56\"],\"detectedCloudPlatforms\":[\"Cloudflare\"]},\"whatrunsData\":{\"date\":1563425101888,\"data\":{\"Widgets\":[{\"name\":\"Survicate\",\"category\":5,\"icon\":\"Survicate.png\",\"index\":\"1609\",\"sourceUrl\":\"https://znanija.com/task/15049934\",\"detectedTime\":1563425101888,\"latestDetectedTime\":1563425101888,\"website\":\"https://www.whatruns.com/click/?target=survicate.com\",\"siteListUrl\":\"https://www.whatruns.com/technology/survicate\"}],\"Analytics\":[{\"name\":\"Google Analytics\",\"category\":10,\"icon\":\"GA.png\",\"index\":\"274\",\"version\":\"UA\",\"sourceUrl\":\"https://znanija.com/task/15049934\",\"detectedTime\":1563425101888,\"latestDetectedTime\":1563425101888,\"website\":\"https://www.whatruns.com/click/?target=google.com%2Fanalytics\",\"siteListUrl\":\"https://www.whatruns.com/technology/google-analytics\"}],\"Javascript Frameworks\":[{\"name\":\"React\",\"category\":12,\"icon\":\"React.png\",\"index\":\"611\",\"sourceUrl\":\"https://znanija.com/task/15049934\",\"detectedTime\":1563425101888,\"latestDetectedTime\":1563425101888,\"website\":\"https://www.whatruns.com/click/?target=facebook.github.io%2Freact\",\"siteListUrl\":\"https://www.whatruns.com/technology/react\"}],\"Javascript Graphics\":[{\"name\":\"Javascript Infovis Toolkit\",\"category\":25,\"icon\":\"JavaScript.png\",\"index\":\"958\",\"sourceUrl\":\"https://znanija.com/task/15049934\",\"detectedTime\":1563425101888,\"latestDetectedTime\":1563425101888,\"website\":\"https://www.whatruns.com/click/?target=thejit.org\",\"siteListUrl\":\"https://www.whatruns.com/technology/javascript-infovis-toolkit\"}],\"CDN\":[{\"name\":\"CloudFlare\",\"category\":31,\"icon\":\"Cloudflare.png\",\"index\":\"136\",\"sourceUrl\":\"https://znanija.com/task/15049934\",\"detectedTime\":1563425101888,\"latestDetectedTime\":1563425101888,\"website\":\"https://www.whatruns.com/click/?target=cloudflare.com\",\"siteListUrl\":\"https://www.whatruns.com/technology/cloudflare\"}],\"Tag Managers\":[{\"name\":\"Google Tag Manager\",\"category\":42,\"icon\":\"Google Tag Manager.png\",\"index\":\"284\",\"sourceUrl\":\"https://znanija.com/task/15049934\",\"detectedTime\":1563425101888,\"latestDetectedTime\":1563425101888,\"website\":\"https://www.whatruns.com/click/?target=www.google.com%2Ftagmanager\",\"siteListUrl\":\"https://www.whatruns.com/technology/google-tag-manager\"}],\"Build CI Systems\":[{\"name\":\"webpack\",\"category\":44,\"icon\":\"webpack.svg\",\"index\":\"946\",\"sourceUrl\":\"https://znanija.com/task/15049934\",\"detectedTime\":1563425101888,\"latestDetectedTime\":1563425101888,\"website\":\"https://www.whatruns.com/click/?target=webpack.github.io\",\"siteListUrl\":\"https://www.whatruns.com/technology/webpack\"}],\"Dev Tools\":[{\"name\":\"Polyfill\",\"category\":47,\"icon\":\"Polyfill.png\",\"index\":\"1373\",\"sourceUrl\":\"https://znanija.com/task/15049934\",\"detectedTime\":1563425101888,\"latestDetectedTime\":1563425101888,\"website\":\"https://www.whatruns.com/click/?target=polyfill.io\",\"siteListUrl\":\"https://www.whatruns.com/technology/polyfill\"}]}}}', 1000, 0)\n"
     ]
    }
   ],
   "source": [
    "import sqlite3\n",
    "con = sqlite3.connect(\"/tmp/store.db\", isolation_level=None)\n",
    "print(*con.execute(\"SELECT * FROM progress WHERE data != 'site no longer online' LIMIT 2\").fetchall(), sep='\\n')\n",
    "con.close()"
   ]
  },
  {
   "cell_type": "code",
   "execution_count": 3,
   "id": "d2800e1a",
   "metadata": {
    "execution": {
     "iopub.execute_input": "2024-03-11T04:31:08.658718Z",
     "iopub.status.busy": "2024-03-11T04:31:08.658118Z",
     "iopub.status.idle": "2024-03-11T04:45:16.064629Z",
     "shell.execute_reply": "2024-03-11T04:45:16.060147Z"
    },
    "papermill": {
     "duration": 847.42262,
     "end_time": "2024-03-11T04:45:16.068308",
     "exception": false,
     "start_time": "2024-03-11T04:31:08.645688",
     "status": "completed"
    },
    "tags": []
   },
   "outputs": [],
   "source": [
    "import sqlite3\n",
    "con = sqlite3.connect(\"/tmp/store.db\", isolation_level=None)\n",
    "con.execute(\"DROP TABLE IF EXISTS websiteFrameworkData\");\n",
    "con.execute(\"CREATE TABLE IF NOT EXISTS websiteFrameworkData (idx INTEGER PRIMARY KEY AUTOINCREMENT NOT NULL, domain TEXT NOT NULL, rank INTEGER NOT NULL, siteIsOnline INTEGER, numIpAddressesDetected INTEGER, detectedCloudPlatforms TEXT, whatrunsDateUnixMillis TEXT, whatrunsData TEXT)\")\n",
    "con.execute(\"\"\"\n",
    "INSERT INTO websiteFrameworkData (domain, rank, siteIsOnline, numIpAddressesDetected, detectedCloudPlatforms, whatrunsDateUnixMillis, whatrunsData) \n",
    "SELECT \n",
    "    progress.domain as domain, \n",
    "    progress.rank as rank,\n",
    "    data IS NOT NULL AND data != 'site no longer online' as siteIsOnline,\n",
    "    CASE WHEN data IS NOT NULL AND data != 'site no longer online'\n",
    "        THEN CAST(json_array_length(json_extract(data, '$.cloudCheck.ipAddresses')) as INTEGER)\n",
    "        ELSE NULL\n",
    "    END as numIpAddressesDetected,\n",
    "    CASE WHEN data IS NOT NULL AND data != 'site no longer online'\n",
    "        THEN json_extract(data, '$.cloudCheck.detectedCloudPlatforms')\n",
    "        ELSE NULL\n",
    "    END as detectedCloudPlatforms,\n",
    "    CASE WHEN data IS NOT NULL AND data != 'site no longer online'\n",
    "        THEN CAST(json_extract(data, '$.whatrunsData.date') as INTEGER)\n",
    "        ELSE NULL\n",
    "    END as whatrunsDateUnixMillis,\n",
    "    CASE WHEN data IS NOT NULL AND data != 'site no longer online'\n",
    "        THEN json_extract(data, '$.whatrunsData.data')\n",
    "        ELSE NULL\n",
    "    END as whatrunsData\n",
    "FROM progress WHERE progress.rank <= 10000000\n",
    "\"\"\")\n",
    "con.execute(\"DROP TABLE IF EXISTS progress\")\n",
    "con.execute(\"VACUUM\")\n",
    "con.close()"
   ]
  },
  {
   "cell_type": "code",
   "execution_count": 4,
   "id": "174b243e",
   "metadata": {
    "execution": {
     "iopub.execute_input": "2024-03-11T04:45:16.095219Z",
     "iopub.status.busy": "2024-03-11T04:45:16.094248Z",
     "iopub.status.idle": "2024-03-11T04:46:39.128613Z",
     "shell.execute_reply": "2024-03-11T04:46:39.127254Z"
    },
    "papermill": {
     "duration": 83.050268,
     "end_time": "2024-03-11T04:46:39.131782",
     "exception": false,
     "start_time": "2024-03-11T04:45:16.081514",
     "status": "completed"
    },
    "tags": []
   },
   "outputs": [
    {
     "name": "stdout",
     "output_type": "stream",
     "text": [
      "15225012224 bytes (15 GB, 14 GiB) copied, 82 s, 186 MB/s\r\n",
      "7259+1 records in\r\n",
      "7259+1 records out\r\n",
      "15225012224 bytes (15 GB, 14 GiB) copied, 82.0046 s, 186 MB/s\r\n"
     ]
    }
   ],
   "source": [
    "#!cp --reflink=always /kaggle/input/web-scrapyscraper/web_framework_scraper-main/store.db /kaggle/working/store.db\n",
    "!dd if=/tmp/store.db of=/kaggle/working/store.db bs=2M status=progress"
   ]
  },
  {
   "cell_type": "code",
   "execution_count": 5,
   "id": "a4089a69",
   "metadata": {
    "execution": {
     "iopub.execute_input": "2024-03-11T04:46:39.167646Z",
     "iopub.status.busy": "2024-03-11T04:46:39.167227Z",
     "iopub.status.idle": "2024-03-11T04:46:39.185834Z",
     "shell.execute_reply": "2024-03-11T04:46:39.184608Z"
    },
    "papermill": {
     "duration": 0.039312,
     "end_time": "2024-03-11T04:46:39.188069",
     "exception": false,
     "start_time": "2024-03-11T04:46:39.148757",
     "status": "completed"
    },
    "tags": []
   },
   "outputs": [
    {
     "name": "stdout",
     "output_type": "stream",
     "text": [
      "(2, 'znanija.com', 1000, 1, 2, '[\"Cloudflare\"]', '1563425101888', '{\"Widgets\":[{\"name\":\"Survicate\",\"category\":5,\"icon\":\"Survicate.png\",\"index\":\"1609\",\"sourceUrl\":\"https://znanija.com/task/15049934\",\"detectedTime\":1563425101888,\"latestDetectedTime\":1563425101888,\"website\":\"https://www.whatruns.com/click/?target=survicate.com\",\"siteListUrl\":\"https://www.whatruns.com/technology/survicate\"}],\"Analytics\":[{\"name\":\"Google Analytics\",\"category\":10,\"icon\":\"GA.png\",\"index\":\"274\",\"version\":\"UA\",\"sourceUrl\":\"https://znanija.com/task/15049934\",\"detectedTime\":1563425101888,\"latestDetectedTime\":1563425101888,\"website\":\"https://www.whatruns.com/click/?target=google.com%2Fanalytics\",\"siteListUrl\":\"https://www.whatruns.com/technology/google-analytics\"}],\"Javascript Frameworks\":[{\"name\":\"React\",\"category\":12,\"icon\":\"React.png\",\"index\":\"611\",\"sourceUrl\":\"https://znanija.com/task/15049934\",\"detectedTime\":1563425101888,\"latestDetectedTime\":1563425101888,\"website\":\"https://www.whatruns.com/click/?target=facebook.github.io%2Freact\",\"siteListUrl\":\"https://www.whatruns.com/technology/react\"}],\"Javascript Graphics\":[{\"name\":\"Javascript Infovis Toolkit\",\"category\":25,\"icon\":\"JavaScript.png\",\"index\":\"958\",\"sourceUrl\":\"https://znanija.com/task/15049934\",\"detectedTime\":1563425101888,\"latestDetectedTime\":1563425101888,\"website\":\"https://www.whatruns.com/click/?target=thejit.org\",\"siteListUrl\":\"https://www.whatruns.com/technology/javascript-infovis-toolkit\"}],\"CDN\":[{\"name\":\"CloudFlare\",\"category\":31,\"icon\":\"Cloudflare.png\",\"index\":\"136\",\"sourceUrl\":\"https://znanija.com/task/15049934\",\"detectedTime\":1563425101888,\"latestDetectedTime\":1563425101888,\"website\":\"https://www.whatruns.com/click/?target=cloudflare.com\",\"siteListUrl\":\"https://www.whatruns.com/technology/cloudflare\"}],\"Tag Managers\":[{\"name\":\"Google Tag Manager\",\"category\":42,\"icon\":\"Google Tag Manager.png\",\"index\":\"284\",\"sourceUrl\":\"https://znanija.com/task/15049934\",\"detectedTime\":1563425101888,\"latestDetectedTime\":1563425101888,\"website\":\"https://www.whatruns.com/click/?target=www.google.com%2Ftagmanager\",\"siteListUrl\":\"https://www.whatruns.com/technology/google-tag-manager\"}],\"Build CI Systems\":[{\"name\":\"webpack\",\"category\":44,\"icon\":\"webpack.svg\",\"index\":\"946\",\"sourceUrl\":\"https://znanija.com/task/15049934\",\"detectedTime\":1563425101888,\"latestDetectedTime\":1563425101888,\"website\":\"https://www.whatruns.com/click/?target=webpack.github.io\",\"siteListUrl\":\"https://www.whatruns.com/technology/webpack\"}],\"Dev Tools\":[{\"name\":\"Polyfill\",\"category\":47,\"icon\":\"Polyfill.png\",\"index\":\"1373\",\"sourceUrl\":\"https://znanija.com/task/15049934\",\"detectedTime\":1563425101888,\"latestDetectedTime\":1563425101888,\"website\":\"https://www.whatruns.com/click/?target=polyfill.io\",\"siteListUrl\":\"https://www.whatruns.com/technology/polyfill\"}]}')\n",
      "(4, 'topmanhua.com', 1000, 1, 3, '[\"Cloudflare\"]', '1568116036500', '{\"CMS\":[{\"name\":\"WordPress\",\"category\":1,\"icon\":\"WordPress.svg\",\"index\":\"828\",\"version\":\"5.2.3\",\"sourceUrl\":\"https://topmanhua.com/manhua/the-doctors-supremacy/\",\"detectedTime\":1568116036500,\"latestDetectedTime\":1568116036500,\"website\":\"https://www.whatruns.com/click/?target=wordpress.org\",\"siteListUrl\":\"https://www.whatruns.com/technology/wordpress\"},{\"name\":\"madara\",\"category\":1,\"icon\":\"WordPress.svg\",\"index\":\"W1673223\",\"sourceUrl\":\"https://topmanhua.com/manhua/the-doctors-supremacy/\",\"detectedTime\":1568116036500,\"latestDetectedTime\":1568116036500,\"website\":\"https://www.whatruns.com/click/?target=wordpress.org%2Fsearch%2Fmadara\",\"parentElement\":\"WordPress\",\"theme\":true},{\"name\":\"madara shortcodes\",\"category\":1,\"icon\":\"WordPress.svg\",\"index\":\"W1673224\",\"sourceUrl\":\"https://topmanhua.com/manhua/the-doctors-supremacy/\",\"detectedTime\":1568116036500,\"latestDetectedTime\":1568116036500,\"website\":\"https://www.whatruns.com/click/?target=wordpress.org\",\"parentElement\":\"WordPress\",\"plugin\":true},{\"name\":\"madara core\",\"category\":1,\"icon\":\"WordPress.svg\",\"index\":\"W1673225\",\"sourceUrl\":\"https://topmanhua.com/manhua/the-doctors-supremacy/\",\"detectedTime\":1568116036500,\"latestDetectedTime\":1568116036500,\"website\":\"https://www.whatruns.com/click/?target=wordpress.org\",\"parentElement\":\"WordPress\",\"plugin\":true},{\"name\":\"kdn auto leech\",\"category\":1,\"icon\":\"WordPress.svg\",\"index\":\"W9658163\",\"sourceUrl\":\"https://topmanhua.com/manhua/the-doctors-supremacy/\",\"detectedTime\":1568116036500,\"latestDetectedTime\":1568116036500,\"website\":\"https://www.whatruns.com/click/?target=wordpress.org\",\"parentElement\":\"WordPress\",\"plugin\":true},{\"name\":\"super socializer\",\"category\":1,\"icon\":\"WordPress.svg\",\"index\":\"W429395\",\"sourceUrl\":\"https://topmanhua.com/manhua/the-doctors-supremacy/\",\"detectedTime\":1568116036500,\"latestDetectedTime\":1568116036500,\"website\":\"https://www.whatruns.com/click/?target=wordpress.org\",\"parentElement\":\"WordPress\",\"plugin\":true}],\"Widgets\":[{\"name\":\"Facebook\",\"category\":5,\"icon\":\"Facebook.png\",\"index\":\"229\",\"sourceUrl\":\"https://topmanhua.com/manhua/the-doctors-supremacy/\",\"detectedTime\":1568116036500,\"latestDetectedTime\":1568116036500,\"website\":\"https://www.whatruns.com/click/?target=facebook.com\",\"siteListUrl\":\"https://www.whatruns.com/technology/facebook\"}],\"Javascript Frameworks\":[{\"name\":\"jQuery\",\"category\":12,\"icon\":\"jQuery.png\",\"index\":\"894\",\"version\":\"2.1.3\",\"sourceUrl\":\"https://topmanhua.com/manhua/the-doctors-supremacy/\",\"detectedTime\":1568116036500,\"latestDetectedTime\":1568116036500,\"website\":\"https://www.whatruns.com/click/?target=jquery.com\",\"siteListUrl\":\"https://www.whatruns.com/technology/jquery\"},{\"name\":\"Lazysizes JS\",\"category\":12,\"icon\":\"Javascript.png\",\"index\":\"1202\",\"sourceUrl\":\"https://topmanhua.com/manhua/the-doctors-supremacy/\",\"detectedTime\":1568116036500,\"latestDetectedTime\":1568116036500,\"website\":\"https://www.whatruns.com/click/?target=afarkas.github.io%2Flazysizes\",\"siteListUrl\":\"https://www.whatruns.com/technology/lazysizes-js\"},{\"name\":\"embed JS\",\"category\":12,\"icon\":\"Embedjs.png\",\"index\":\"1906\",\"sourceUrl\":\"https://topmanhua.com/manhua/the-doctors-supremacy/\",\"detectedTime\":1568116036500,\"latestDetectedTime\":1568116036500,\"website\":\"https://www.whatruns.com/click/?target=riteshkr.com%2Fembed.js\",\"siteListUrl\":\"https://www.whatruns.com/technology/embed-js\"},{\"name\":\"Shuffle JS\",\"category\":12,\"icon\":\"Shuffle.png\",\"index\":\"1932\",\"sourceUrl\":\"https://topmanhua.com/manhua/the-doctors-supremacy/\",\"detectedTime\":1568116036500,\"latestDetectedTime\":1568116036500,\"website\":\"https://www.whatruns.com/click/?target=vestride.github.io%2FShuffle\",\"siteListUrl\":\"https://www.whatruns.com/technology/shuffle-js\"}],\"Captcha\":[{\"name\":\"reCAPTCHA\",\"category\":16,\"icon\":\"Recaptchagoogle.png\",\"index\":\"931\",\"sourceUrl\":\"https://topmanhua.com/manhua/the-doctors-supremacy/\",\"detectedTime\":1568116036500,\"latestDetectedTime\":1568116036500,\"website\":\"https://www.whatruns.com/click/?target=recaptcha.net\",\"siteListUrl\":\"https://www.whatruns.com/technology/recaptcha\"}],\"Font Script\":[{\"name\":\"Google Font API\",\"category\":17,\"icon\":\"Google Font API.png\",\"index\":\"278\",\"sourceUrl\":\"https://topmanhua.com/manhua/the-doctors-supremacy/\",\"detectedTime\":1568116036500,\"latestDetectedTime\":1568116036500,\"website\":\"https://www.whatruns.com/click/?target=google.com%2Ffonts\",\"siteListUrl\":\"https://www.whatruns.com/technology/google-font-api\"},{\"name\":\"Ionicons\",\"category\":17,\"icon\":\"Ionicons.png\",\"index\":\"350\",\"sourceUrl\":\"https://topmanhua.com/manhua/the-doctors-supremacy/\",\"detectedTime\":1568116036500,\"latestDetectedTime\":1568116036500,\"website\":\"https://www.whatruns.com/click/?target=ionicons.com\",\"siteListUrl\":\"https://www.whatruns.com/technology/ionicons\"}],\"Web Framework\":[{\"name\":\"Bootstrap\",\"category\":18,\"icon\":\"Twitter Bootstrap.png\",\"index\":\"759\",\"sourceUrl\":\"https://topmanhua.com/manhua/the-doctors-supremacy/\",\"detectedTime\":1568116036500,\"latestDetectedTime\":1568116036500,\"website\":\"https://www.whatruns.com/click/?target=getbootstrap.com\",\"siteListUrl\":\"https://www.whatruns.com/technology/bootstrap\"}],\"Javascript Graphics\":[{\"name\":\"Twitter Emoji (Twemoji)\",\"category\":25,\"icon\":\"Twitter.png\",\"index\":\"760\",\"sourceUrl\":\"https://topmanhua.com/manhua/the-doctors-supremacy/\",\"detectedTime\":1568116036500,\"latestDetectedTime\":1568116036500,\"website\":\"https://www.whatruns.com/click/?target=twitter.github.io%2Ftwemoji%2F\",\"siteListUrl\":\"https://www.whatruns.com/technology/twitter-emoji--twemoji-\"}],\"Programming Language\":[{\"name\":\"PHP\",\"category\":27,\"icon\":\"PHP.png\",\"index\":\"547\",\"version\":\"5.5.9\",\"sourceUrl\":\"https://topmanhua.com/manhua/the-doctors-supremacy/\",\"detectedTime\":1568116036500,\"latestDetectedTime\":1568116036500,\"website\":\"https://www.whatruns.com/click/?target=php.net\",\"siteListUrl\":\"https://www.whatruns.com/technology/php\"}],\"CDN\":[{\"name\":\"CloudFlare\",\"category\":31,\"icon\":\"Cloudflare.png\",\"index\":\"136\",\"sourceUrl\":\"https://topmanhua.com/manhua/the-doctors-supremacy/\",\"detectedTime\":1568116036500,\"latestDetectedTime\":1568116036500,\"website\":\"https://www.whatruns.com/click/?target=cloudflare.com\",\"siteListUrl\":\"https://www.whatruns.com/technology/cloudflare\"}],\"Advertising\":[{\"name\":\"Google AdSense\",\"category\":36,\"icon\":\"Google AdSense.png\",\"index\":\"273\",\"sourceUrl\":\"https://topmanhua.com/manhua/the-doctors-supremacy/\",\"detectedTime\":1568116036500,\"latestDetectedTime\":1568116036500,\"website\":\"https://www.whatruns.com/click/?target=google.com%2Fadsense\",\"siteListUrl\":\"https://www.whatruns.com/technology/google-adsense\"},{\"name\":\"Facebook Pixel\",\"category\":36,\"icon\":\"Facebookpixel.png\",\"index\":\"2102\",\"sourceUrl\":\"https://topmanhua.com/manhua/the-doctors-supremacy/\",\"detectedTime\":1568116036500,\"latestDetectedTime\":1568116036500,\"website\":\"https://www.whatruns.com/click/?target=facebook.com%2Fbusiness\",\"siteListUrl\":\"https://www.whatruns.com/technology/facebook-pixel\"}],\"Tag Managers\":[{\"name\":\"Google Tag Manager\",\"category\":42,\"icon\":\"Google Tag Manager.png\",\"index\":\"284\",\"sourceUrl\":\"https://topmanhua.com/manhua/the-doctors-supremacy/\",\"detectedTime\":1568116036500,\"latestDetectedTime\":1568116036500,\"website\":\"https://www.whatruns.com/click/?target=www.google.com%2Ftagmanager\",\"siteListUrl\":\"https://www.whatruns.com/technology/google-tag-manager\"}]}')\n",
      "(5, 'www.xvideos.com', 1000, 1, 10, '[]', None, '{}')\n",
      "(10, 'www.ixxx.com', 1000, 1, 2, '[]', None, '{}')\n",
      "(11, 'www.pornpics.com', 1000, 1, 4, '[]', None, '{}')\n",
      "(12, 'sex4arab.xxx', 1000, 1, 3, '[\"Cloudflare\"]', '1635970145498', '{\"Javascript Frameworks\":[{\"name\":\"Select2\",\"category\":12,\"icon\":\"Selectivizr.png\",\"index\":\"656\",\"sourceUrl\":\"https://sex4arab.xxx/\",\"detectedTime\":1635970145498,\"latestDetectedTime\":1635970145498,\"website\":\"https://www.whatruns.com/click/?target=select2.github.io\",\"siteListUrl\":\"https://www.whatruns.com/technology/select2\"},{\"name\":\"jQuery\",\"category\":12,\"icon\":\"jQuery.png\",\"index\":\"894\",\"version\":\"3.6.0\",\"sourceUrl\":\"https://sex4arab.xxx/\",\"detectedTime\":1635970145498,\"latestDetectedTime\":1635970145498,\"website\":\"https://www.whatruns.com/click/?target=jquery.com\",\"siteListUrl\":\"https://www.whatruns.com/technology/jquery\"}],\"Cache\":[{\"name\":\"Varnish\",\"category\":23,\"icon\":\"Varnish.svg\",\"index\":\"784\",\"sourceUrl\":\"https://sex4arab.xxx/\",\"detectedTime\":1635970145498,\"latestDetectedTime\":1635970145498,\"website\":\"https://www.whatruns.com/click/?target=varnish-cache.org\",\"siteListUrl\":\"https://www.whatruns.com/technology/varnish\"}],\"CDN\":[{\"name\":\"CloudFlare\",\"category\":31,\"icon\":\"Cloudflare.png\",\"index\":\"136\",\"sourceUrl\":\"https://sex4arab.xxx/\",\"detectedTime\":1635970145498,\"latestDetectedTime\":1635970145498,\"website\":\"https://www.whatruns.com/click/?target=cloudflare.com\",\"siteListUrl\":\"https://www.whatruns.com/technology/cloudflare\"},{\"name\":\"CDN JS\",\"category\":31,\"icon\":\"Cdnjs.png\",\"index\":\"2141\",\"sourceUrl\":\"https://sex4arab.xxx/\",\"detectedTime\":1635970145498,\"latestDetectedTime\":1635970145498,\"website\":\"https://www.whatruns.com/click/?target=cdnjs.com\",\"siteListUrl\":\"https://www.whatruns.com/technology/cdn-js\"}],\"Tag Managers\":[{\"name\":\"Google Tag Manager\",\"category\":42,\"icon\":\"Google Tag Manager.png\",\"index\":\"284\",\"sourceUrl\":\"https://sex4arab.xxx/\",\"detectedTime\":1635970145498,\"latestDetectedTime\":1635970145498,\"website\":\"https://www.whatruns.com/click/?target=www.google.com%2Ftagmanager\",\"siteListUrl\":\"https://www.whatruns.com/technology/google-tag-manager\"}]}')\n",
      "(13, 'www.ozon.ru', 1000, 1, 2, '[\"Cloudflare\"]', None, '{}')\n",
      "(17, 'quizizz.com', 1000, 1, 4, '[\"Amazon Web Services (GLOBAL)\"]', '1677474783471', '{\"Analytics\":[{\"name\":\"Hotjar\",\"category\":10,\"icon\":\"Hotjar.png\",\"index\":\"322\",\"sourceUrl\":\"https://quizizz.com/admin/quiz/60214d685d9768001bd07600/quality-control\",\"detectedTime\":1677474783471,\"latestDetectedTime\":1677474783471,\"website\":\"https://www.whatruns.com/click/?target=hotjar.com\",\"siteListUrl\":\"https://www.whatruns.com/technology/hotjar\"}],\"Javascript Frameworks\":[{\"name\":\"Express\",\"category\":12,\"icon\":\"Express.png\",\"index\":\"223\",\"sourceUrl\":\"https://quizizz.com/admin/quiz/60214d685d9768001bd07600/quality-control\",\"detectedTime\":1677474783471,\"latestDetectedTime\":1677474783471,\"website\":\"https://www.whatruns.com/click/?target=expressjs.com\",\"siteListUrl\":\"https://www.whatruns.com/technology/express\"}],\"Programming Language\":[{\"name\":\"Node.js\",\"category\":27,\"icon\":\"node.js.png\",\"index\":\"507\",\"sourceUrl\":\"https://quizizz.com/admin/quiz/60214d685d9768001bd07600/quality-control\",\"detectedTime\":1677474783471,\"latestDetectedTime\":1677474783471,\"website\":\"https://www.whatruns.com/click/?target=nodejs.org\",\"siteListUrl\":\"https://www.whatruns.com/technology/node-js\"}],\"CDN\":[{\"name\":\"Amazon Cloudfront\",\"category\":31,\"icon\":\"Amazon-Cloudfront.svg\",\"index\":\"42\",\"sourceUrl\":\"https://quizizz.com/admin/quiz/60214d685d9768001bd07600/quality-control\",\"detectedTime\":1677474783471,\"latestDetectedTime\":1677474783471,\"website\":\"https://www.whatruns.com/click/?target=aws.amazon.com%2Fcloudfront%2F\",\"siteListUrl\":\"https://www.whatruns.com/technology/amazon-cloudfront\"}],\"Tag Managers\":[{\"name\":\"Google Tag Manager\",\"category\":42,\"icon\":\"Google Tag Manager.png\",\"index\":\"284\",\"sourceUrl\":\"https://quizizz.com/admin/quiz/60214d685d9768001bd07600/quality-control\",\"detectedTime\":1677474783471,\"latestDetectedTime\":1677474783471,\"website\":\"https://www.whatruns.com/click/?target=www.google.com%2Ftagmanager\",\"siteListUrl\":\"https://www.whatruns.com/technology/google-tag-manager\"}],\"Build CI Systems\":[{\"name\":\"webpack\",\"category\":44,\"icon\":\"webpack.svg\",\"index\":\"946\",\"sourceUrl\":\"https://quizizz.com/admin/quiz/60214d685d9768001bd07600/quality-control\",\"detectedTime\":1677474783471,\"latestDetectedTime\":1677474783471,\"website\":\"https://www.whatruns.com/click/?target=webpack.github.io\",\"siteListUrl\":\"https://www.whatruns.com/technology/webpack\"}]}')\n",
      "(19, 'm.happymh.com', 1000, 1, 2, '[\"Cloudflare\"]', '1632361455274', '{\"Analytics\":[{\"name\":\"Google Analytics\",\"category\":10,\"icon\":\"GA.png\",\"index\":\"274\",\"version\":\"UA\",\"sourceUrl\":\"https://m.happymh.com/\",\"detectedTime\":1632361455274,\"latestDetectedTime\":1632361455274,\"website\":\"https://www.whatruns.com/click/?target=google.com%2Fanalytics\",\"siteListUrl\":\"https://www.whatruns.com/technology/google-analytics\"},{\"name\":\"CNZZ\",\"category\":10,\"icon\":\"CNZZ.png\",\"index\":\"2071\",\"sourceUrl\":\"https://m.happymh.com/\",\"detectedTime\":1632361455274,\"latestDetectedTime\":1632361455274,\"website\":\"https://www.whatruns.com/click/?target=umeng.com\",\"siteListUrl\":\"https://www.whatruns.com/technology/cnzz\"}],\"Web Server\":[{\"name\":\"Nginx\",\"category\":22,\"icon\":\"Nginx.svg\",\"index\":\"506\",\"version\":\"1.14.0\",\"sourceUrl\":\"https://m.happymh.com/\",\"detectedTime\":1632361455274,\"latestDetectedTime\":1632361455274,\"website\":\"https://www.whatruns.com/click/?target=nginx.org%2Fen\",\"siteListUrl\":\"https://www.whatruns.com/technology/nginx\"}],\"Operating System\":[{\"name\":\"Ubuntu\",\"category\":28,\"icon\":\"Ubuntu.png\",\"index\":\"769\",\"sourceUrl\":\"https://m.happymh.com/\",\"detectedTime\":1632361455274,\"latestDetectedTime\":1632361455274,\"website\":\"https://www.whatruns.com/click/?target=www.ubuntu.com%2Fserver\",\"siteListUrl\":\"https://www.whatruns.com/technology/ubuntu\"}]}')\n",
      "(20, 'www.nikkansports.com', 1000, 1, 4, '[\"Amazon Web Services (GLOBAL)\"]', None, '{}')\n"
     ]
    }
   ],
   "source": [
    "import sqlite3\n",
    "con = sqlite3.connect(\"/tmp/store.db\", isolation_level=None)\n",
    "print(*con.execute(\"SELECT * FROM websiteFrameworkData WHERE numIpAddressesDetected > 1 LIMIT 10\").fetchall(), sep='\\n')\n",
    "con.close()"
   ]
  }
 ],
 "metadata": {
  "kaggle": {
   "accelerator": "none",
   "dataSources": [
    {
     "sourceId": 165788119,
     "sourceType": "kernelVersion"
    }
   ],
   "dockerImageVersionId": 30664,
   "isGpuEnabled": false,
   "isInternetEnabled": true,
   "language": "python",
   "sourceType": "notebook"
  },
  "kernelspec": {
   "display_name": "Python 3",
   "language": "python",
   "name": "python3"
  },
  "language_info": {
   "codemirror_mode": {
    "name": "ipython",
    "version": 3
   },
   "file_extension": ".py",
   "mimetype": "text/x-python",
   "name": "python",
   "nbconvert_exporter": "python",
   "pygments_lexer": "ipython3",
   "version": "3.10.13"
  },
  "papermill": {
   "default_parameters": {},
   "duration": 1081.058158,
   "end_time": "2024-03-11T04:46:39.627730",
   "environment_variables": {},
   "exception": null,
   "input_path": "__notebook__.ipynb",
   "output_path": "__notebook__.ipynb",
   "parameters": {},
   "start_time": "2024-03-11T04:28:38.569572",
   "version": "2.5.0"
  }
 },
 "nbformat": 4,
 "nbformat_minor": 5
}
