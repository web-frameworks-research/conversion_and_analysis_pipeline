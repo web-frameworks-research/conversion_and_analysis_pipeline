{
 "cells": [
  {
   "cell_type": "code",
   "execution_count": 1,
   "id": "6b7a8537",
   "metadata": {
    "_cell_guid": "b1076dfc-b9ad-4769-8c92-a6c4dae69d19",
    "_uuid": "8f2839f25d086af736a60e9eeb907d3b93b6e0e5",
    "execution": {
     "iopub.execute_input": "2024-02-22T05:58:02.002245Z",
     "iopub.status.busy": "2024-02-22T05:58:02.001744Z",
     "iopub.status.idle": "2024-02-22T05:58:03.187413Z",
     "shell.execute_reply": "2024-02-22T05:58:03.186027Z"
    },
    "papermill": {
     "duration": 1.193924,
     "end_time": "2024-02-22T05:58:03.190364",
     "exception": false,
     "start_time": "2024-02-22T05:58:01.996440",
     "status": "completed"
    },
    "tags": []
   },
   "outputs": [],
   "source": [
    "import sqlite3\n",
    "import pandas as pd\n",
    "\n",
    "db_path = \"/kaggle/input/aggregate-framework-data-into-sqlite-database/crux_data.db\"\n",
    "conn = sqlite3.connect(db_path)"
   ]
  },
  {
   "cell_type": "code",
   "execution_count": 2,
   "id": "78bca90e",
   "metadata": {
    "execution": {
     "iopub.execute_input": "2024-02-22T05:58:03.198542Z",
     "iopub.status.busy": "2024-02-22T05:58:03.197335Z",
     "iopub.status.idle": "2024-02-22T06:00:05.122991Z",
     "shell.execute_reply": "2024-02-22T06:00:05.120617Z"
    },
    "papermill": {
     "duration": 121.942527,
     "end_time": "2024-02-22T06:00:05.135758",
     "exception": false,
     "start_time": "2024-02-22T05:58:03.193231",
     "status": "completed"
    },
    "tags": []
   },
   "outputs": [
    {
     "data": {
      "text/plain": [
       "0        1000\n",
       "1        5000\n",
       "2       10000\n",
       "3       50000\n",
       "4      100000\n",
       "5      500000\n",
       "6     1000000\n",
       "7     5000000\n",
       "8    10000000\n",
       "9    50000000\n",
       "Name: rank, dtype: int64"
      ]
     },
     "execution_count": 2,
     "metadata": {},
     "output_type": "execute_result"
    }
   ],
   "source": [
    "query = \"SELECT rank FROM CrUXData GROUP BY rank\"\n",
    "df = pd.read_sql_query(query, conn)\n",
    "ranks = df['rank']\n",
    "ranks"
   ]
  },
  {
   "cell_type": "code",
   "execution_count": 3,
   "id": "7a9e0d72",
   "metadata": {
    "execution": {
     "iopub.execute_input": "2024-02-22T06:00:05.146380Z",
     "iopub.status.busy": "2024-02-22T06:00:05.145918Z",
     "iopub.status.idle": "2024-02-22T06:21:01.014179Z",
     "shell.execute_reply": "2024-02-22T06:21:01.011735Z"
    },
    "papermill": {
     "duration": 1255.889006,
     "end_time": "2024-02-22T06:21:01.028044",
     "exception": false,
     "start_time": "2024-02-22T06:00:05.139038",
     "status": "completed"
    },
    "tags": []
   },
   "outputs": [
    {
     "name": "stdout",
     "output_type": "stream",
     "text": [
      "1000 domains with rank 1000\n",
      "3996 domains with rank 5000\n",
      "4995 domains with rank 10000\n",
      "39947 domains with rank 50000\n",
      "49898 domains with rank 100000\n",
      "398962 domains with rank 500000\n",
      "498385 domains with rank 1000000\n",
      "3983007 domains with rank 5000000\n",
      "4971455 domains with rank 10000000\n",
      "8495965 domains with rank 50000000\n",
      "18447610 domains in total\n"
     ]
    }
   ],
   "source": [
    "already_existing_domains = set()\n",
    "\n",
    "for rank in ranks:\n",
    "    query = f\"SELECT REPLACE(REPLACE(origin, 'http://', ''), 'https://', '') as origin_domain FROM CrUXData WHERE rank = {rank} GROUP BY origin_domain ORDER BY RANDOM()\" \n",
    "    df = pd.read_sql_query(query, conn)\n",
    "    df = df[~df['origin_domain'].isin(already_existing_domains)]\n",
    "    df[\"origin_domain\"].to_csv(f\"domains_{rank}.txt\", header=None, index=False)\n",
    "    already_existing_domains.update(df[\"origin_domain\"])\n",
    "    print(f\"{df['origin_domain'].count()} domains with rank {rank}\")\n",
    "\n",
    "print(f\"{len(already_existing_domains)} domains in total\")"
   ]
  },
  {
   "cell_type": "code",
   "execution_count": 4,
   "id": "6a846dfc",
   "metadata": {
    "execution": {
     "iopub.execute_input": "2024-02-22T06:21:01.052477Z",
     "iopub.status.busy": "2024-02-22T06:21:01.049603Z",
     "iopub.status.idle": "2024-02-22T06:21:37.368697Z",
     "shell.execute_reply": "2024-02-22T06:21:37.366840Z"
    },
    "papermill": {
     "duration": 36.334456,
     "end_time": "2024-02-22T06:21:37.372252",
     "exception": false,
     "start_time": "2024-02-22T06:21:01.037796",
     "status": "completed"
    },
    "tags": []
   },
   "outputs": [
    {
     "name": "stdout",
     "output_type": "stream",
     "text": [
      "Top 1000\r\n",
      "www.filmweb.pl\r\n",
      "znanija.com\r\n",
      "www.cronista.com\r\n",
      "topmanhua.com\r\n",
      "www.xvideos.com\r\n",
      "\r\n",
      "Top 5000\r\n",
      "www.flashback.org\r\n",
      "animesuge.to\r\n",
      "ro.m.wikipedia.org\r\n",
      "escapefromtarkov.fandom.com\r\n",
      "www.sambaporno.com\r\n",
      "\r\n",
      "Top 10000\r\n",
      "allmovieshub.foo\r\n",
      "opetroleo.com.br\r\n",
      "minha.anem.dz\r\n",
      "m.sinemalar.com\r\n",
      "www.inmuebles24.com\r\n",
      "\r\n",
      "Top 50000\r\n",
      "secim2019.sozcu.com.tr\r\n",
      "www.1001jogos.com.br\r\n",
      "alldeepfake.com\r\n",
      "my.wizardingworld.com\r\n",
      "www.km77.com\r\n",
      "\r\n",
      "Top 100000\r\n",
      "saptco.com.sa\r\n",
      "www.u31thai.com\r\n",
      "www.andindia.com\r\n",
      "my.echecks.com\r\n",
      "www.ruger.com\r\n",
      "\r\n",
      "Top 500000\r\n",
      "simplex.kimshealth.org\r\n",
      "p-net.sumitomolife.co.jp\r\n",
      "m.electricstartermotors.com\r\n",
      "www.poloniainfo.se\r\n",
      "joys.dk\r\n",
      "\r\n",
      "Top 1000000\r\n",
      "rk-auth01.st.roteskreuz.at\r\n",
      "goldenqq1.co\r\n",
      "vitorinos.pt\r\n",
      "www.huntershop.ro\r\n",
      "www.lacala.com\r\n",
      "\r\n",
      "Top 5000000\r\n",
      "foreigncredentials.org\r\n",
      "newseason24.com\r\n",
      "www.raterpopuler.com\r\n",
      "vzelenomgorode.ru\r\n",
      "communication.gov.pk\r\n",
      "\r\n",
      "Top 10000000\r\n",
      "www.ymb-mobile-comment.com\r\n",
      "clubxroom.com\r\n",
      "bozukobo.com\r\n",
      "outbackinsulation.com.au\r\n",
      "www.patrimoinegerance.ch\r\n",
      "\r\n",
      "Top 50000000\r\n",
      "www.ymb-mobile-comment.com\r\n",
      "clubxroom.com\r\n",
      "bozukobo.com\r\n",
      "outbackinsulation.com.au\r\n",
      "www.patrimoinegerance.ch\r\n"
     ]
    }
   ],
   "source": [
    "!echo \"Top 1000\"\n",
    "!head -5 domains_1000.txt\n",
    "!echo \"\"\n",
    "!echo \"Top 5000\"\n",
    "!head -5 domains_5000.txt\n",
    "!echo \"\"\n",
    "!echo \"Top 10000\"\n",
    "!head -5 domains_10000.txt\n",
    "!echo \"\"\n",
    "!echo \"Top 50000\"\n",
    "!head -5 domains_50000.txt\n",
    "!echo \"\"\n",
    "!echo \"Top 100000\"\n",
    "!head -5 domains_100000.txt\n",
    "!echo \"\"\n",
    "!echo \"Top 500000\"\n",
    "!head -5 domains_500000.txt\n",
    "!echo \"\"\n",
    "!echo \"Top 1000000\"\n",
    "!head -5 domains_1000000.txt\n",
    "!echo \"\"\n",
    "!echo \"Top 5000000\"\n",
    "!head -5 domains_5000000.txt\n",
    "!echo \"\"\n",
    "!echo \"Top 10000000\"\n",
    "!head -5 domains_10000000.txt\n",
    "!echo \"\"\n",
    "!echo \"Top 50000000\"\n",
    "!head -5 domains_10000000.txt"
   ]
  }
 ],
 "metadata": {
  "kaggle": {
   "accelerator": "none",
   "dataSources": [
    {
     "sourceId": 163790763,
     "sourceType": "kernelVersion"
    }
   ],
   "dockerImageVersionId": 30646,
   "isGpuEnabled": false,
   "isInternetEnabled": true,
   "language": "python",
   "sourceType": "notebook"
  },
  "kernelspec": {
   "display_name": "Python 3",
   "language": "python",
   "name": "python3"
  },
  "language_info": {
   "codemirror_mode": {
    "name": "ipython",
    "version": 3
   },
   "file_extension": ".py",
   "mimetype": "text/x-python",
   "name": "python",
   "nbconvert_exporter": "python",
   "pygments_lexer": "ipython3",
   "version": "3.10.13"
  },
  "papermill": {
   "default_parameters": {},
   "duration": 1421.533526,
   "end_time": "2024-02-22T06:21:40.116642",
   "environment_variables": {},
   "exception": null,
   "input_path": "__notebook__.ipynb",
   "output_path": "__notebook__.ipynb",
   "parameters": {},
   "start_time": "2024-02-22T05:57:58.583116",
   "version": "2.5.0"
  }
 },
 "nbformat": 4,
 "nbformat_minor": 5
}
